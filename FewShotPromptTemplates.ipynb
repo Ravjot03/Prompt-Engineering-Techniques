{
 "cells": [
  {
   "cell_type": "code",
   "execution_count": 1,
   "id": "121bccb5-abbd-4b38-ab08-b54b09da73c4",
   "metadata": {},
   "outputs": [
    {
     "name": "stderr",
     "output_type": "stream",
     "text": [
      "/Users/ravjotsingh/anaconda3/envs/langchain_test/lib/python3.11/site-packages/tqdm/auto.py:21: TqdmWarning: IProgress not found. Please update jupyter and ipywidgets. See https://ipywidgets.readthedocs.io/en/stable/user_install.html\n",
      "  from .autonotebook import tqdm as notebook_tqdm\n"
     ]
    }
   ],
   "source": [
    "from langchain_google_genai import GoogleGenerativeAI"
   ]
  },
  {
   "cell_type": "code",
   "execution_count": 2,
   "id": "61b4b449-c225-4942-8b25-8a782bcb5423",
   "metadata": {},
   "outputs": [],
   "source": [
    "api_key = \"your api key\""
   ]
  },
  {
   "cell_type": "code",
   "execution_count": 3,
   "id": "0263e6e8-87c6-4bc8-bd7a-c4568e11963b",
   "metadata": {},
   "outputs": [],
   "source": [
    "llm = GoogleGenerativeAI(model=\"models/text-bison-001\", google_api_key=api_key)"
   ]
  },
  {
   "cell_type": "code",
   "execution_count": 4,
   "id": "edb20574-93d2-410a-a4af-7e9fb71c68bf",
   "metadata": {},
   "outputs": [],
   "source": [
    "from langchain_core.prompts import PromptTemplate"
   ]
  },
  {
   "cell_type": "code",
   "execution_count": 5,
   "id": "79bb80b9-5900-4fec-a25e-b09f64a92507",
   "metadata": {},
   "outputs": [],
   "source": [
    "template = ''' I want you to act as a classroom teacher for students. In an easy way explain the basics of {topic} .'''"
   ]
  },
  {
   "cell_type": "code",
   "execution_count": 6,
   "id": "ec09b542-8eeb-45af-8b83-06ad520472f2",
   "metadata": {},
   "outputs": [],
   "source": [
    "prompt = PromptTemplate(\n",
    "    input_variables = ['topic'],\n",
    "    template = template\n",
    ")"
   ]
  },
  {
   "cell_type": "code",
   "execution_count": 8,
   "id": "edda9e8d-d2ec-4fda-8baa-6fa1b8337648",
   "metadata": {},
   "outputs": [
    {
     "data": {
      "text/plain": [
       "' I want you to act as a classroom teacher for students. In an easy way explain the basics of machine learning .'"
      ]
     },
     "execution_count": 8,
     "metadata": {},
     "output_type": "execute_result"
    }
   ],
   "source": [
    "prompt.format(topic = 'machine learning')"
   ]
  },
  {
   "cell_type": "code",
   "execution_count": 10,
   "id": "9206b504-d928-4183-b1d2-65f8b49d017c",
   "metadata": {},
   "outputs": [],
   "source": [
    "from langchain.chains import LLMChain"
   ]
  },
  {
   "cell_type": "code",
   "execution_count": 12,
   "id": "60785462-3e51-46cb-a092-bb5e7ea98835",
   "metadata": {},
   "outputs": [],
   "source": [
    "chain = LLMChain(llm = llm, prompt = prompt)"
   ]
  },
  {
   "cell_type": "code",
   "execution_count": 15,
   "id": "6fb8ff56-db25-45dd-af1d-00ea8793c384",
   "metadata": {},
   "outputs": [
    {
     "name": "stderr",
     "output_type": "stream",
     "text": [
      "WARNING: All log messages before absl::InitializeLog() is called are written to STDERR\n",
      "I0000 00:00:1723839161.732839 25959069 config.cc:230] gRPC experiments enabled: call_status_override_on_cancellation, event_engine_dns, event_engine_listener, http2_stats_fix, monitoring_experiment, pick_first_new, trace_record_callops, work_serializer_clears_time_cache\n",
      "I0000 00:00:1723839161.748960 25959069 check_gcp_environment_no_op.cc:29] ALTS: Platforms other than Linux and Windows are not supported\n"
     ]
    },
    {
     "data": {
      "text/plain": [
       "'**What is Machine Learning?**\\n\\nMachine learning is a type of artificial intelligence (AI) that allows computers to learn without being explicitly programmed. Machine learning algorithms are trained on data, and then they can be used to make predictions or decisions.\\n\\nMachine learning is used in a wide variety of applications, including:\\n\\n* **Predictive analytics:** Machine learning algorithms can be used to predict future events, such as the likelihood of a customer buying a product or the probability of a loan default.\\n* **Natural language processing:** Machine learning algorithms can be used to understand human language, and they are used in applications such as speech recognition and machine translation.\\n* **Computer vision:** Machine learning algorithms can be used to identify objects in images and videos, and they are used in applications such as self-driving cars and facial recognition.\\n\\n**How does Machine Learning Work?**\\n\\nMachine learning algorithms work by finding patterns in data. They do this by looking for relationships between different features of the data. For example, a machine learning algorithm might look for relationships between the features of a customer (such as age, gender, income, and location) and the likelihood of that customer buying a product.\\n\\nOnce a machine learning algorithm has learned the patterns in the data, it can be used to make predictions or decisions. For example, the machine learning algorithm that predicts the likelihood of a customer buying a product could be used to decide which customers to target with a marketing campaign.\\n\\n**What are the Benefits of Machine Learning?**\\n\\nMachine learning can provide a number of benefits, including:\\n\\n* **Improved accuracy:** Machine learning algorithms can often be more accurate than traditional statistical methods. This is because machine learning algorithms can learn from data that is too complex for traditional statistical methods to handle.\\n* **Reduced cost:** Machine learning algorithms can be used to automate tasks that would otherwise be performed by humans. This can save businesses time and money.\\n* **Increased flexibility:** Machine learning algorithms can be adapted to new data sets and applications. This makes them more versatile than traditional statistical methods.\\n\\n**What are the Challenges of Machine Learning?**\\n\\nThere are a number of challenges associated with machine learning, including:\\n\\n* **Data quality:** The quality of the data used to train a machine learning algorithm is critical to the accuracy of the algorithm. If the data is noisy or incomplete, the algorithm will not be able to learn the patterns in the data effectively.\\n* **Overfitting:** Machine learning algorithms can sometimes be overfit to the training data. This means that the algorithm learns the patterns in the training data too well, and it is not able to generalize to new data.\\n* **Explainability:** Machine learning algorithms can be difficult to explain. This can make it difficult for businesses to understand how the algorithms are making decisions, and it can make it difficult to trust the algorithms.\\n\\n**Conclusion**\\n\\nMachine learning is a powerful tool that can be used to solve a wide variety of problems. However, it is important to be aware of the challenges associated with machine learning in order to use it effectively.\\n\\nHere are some additional resources that you may find helpful:\\n\\n* [Machine Learning for Beginners](https://www.coursera.org/specializations/machine-learning)\\n* [Machine Learning Algorithms](https://scikit-learn.org/stable/)\\n* [Machine Learning in Python](https://www.tensorflow.org/tutorials/)'"
      ]
     },
     "execution_count": 15,
     "metadata": {},
     "output_type": "execute_result"
    }
   ],
   "source": [
    "chain.run('machine learning')"
   ]
  },
  {
   "cell_type": "code",
   "execution_count": 16,
   "id": "3435105d-d03f-40b5-a808-1c0d41a73b69",
   "metadata": {},
   "outputs": [],
   "source": [
    "from langchain_core.prompts import PromptTemplate"
   ]
  },
  {
   "cell_type": "code",
   "execution_count": 21,
   "id": "0c35b4f6-4a06-41f8-9f8a-438a809eadba",
   "metadata": {},
   "outputs": [],
   "source": [
    "template = '''In an easy way translate the following {sentence} in {target_language}.'''"
   ]
  },
  {
   "cell_type": "code",
   "execution_count": 22,
   "id": "3112f1bf-c89e-4213-b517-12b7c15b0b47",
   "metadata": {},
   "outputs": [],
   "source": [
    "language_prompt = PromptTemplate(\n",
    "    template = template,\n",
    "    input_variables = ['sentence','target_language']\n",
    ")"
   ]
  },
  {
   "cell_type": "code",
   "execution_count": 23,
   "id": "b3d7d929-82e8-435c-bad7-db17afaab8cd",
   "metadata": {},
   "outputs": [
    {
     "data": {
      "text/plain": [
       "'In an easy way translate the following Hi, How are you? in Punjabi.'"
      ]
     },
     "execution_count": 23,
     "metadata": {},
     "output_type": "execute_result"
    }
   ],
   "source": [
    "language_prompt.format(sentence='Hi, How are you?', target_language = 'Punjabi')"
   ]
  },
  {
   "cell_type": "code",
   "execution_count": 25,
   "id": "eda57aa6-db7a-43d1-92e5-cc8089dde93c",
   "metadata": {},
   "outputs": [],
   "source": [
    "chain = LLMChain(llm = llm, prompt = language_prompt)"
   ]
  },
  {
   "cell_type": "code",
   "execution_count": 31,
   "id": "abb72368-d4fc-4eec-95c8-5c7ea2f5ea3d",
   "metadata": {},
   "outputs": [
    {
     "data": {
      "text/plain": [
       "{'sentence': 'Hi, How are you?',\n",
       " 'target_language': 'Spanish',\n",
       " 'text': 'Hola, ¿Cómo estás?'}"
      ]
     },
     "execution_count": 31,
     "metadata": {},
     "output_type": "execute_result"
    }
   ],
   "source": [
    "chain({'sentence':\"Hi, How are you?\", 'target_language':\"Spanish\"})"
   ]
  },
  {
   "cell_type": "code",
   "execution_count": 32,
   "id": "8b245bb7-be5a-4b67-b4f8-3e7c8735048c",
   "metadata": {},
   "outputs": [],
   "source": [
    "from langchain_core.prompts import FewShotPromptTemplate"
   ]
  },
  {
   "cell_type": "code",
   "execution_count": 33,
   "id": "71cebf00-cc2a-4e69-a25d-275d3fb26488",
   "metadata": {},
   "outputs": [],
   "source": [
    "examples = [\n",
    "    {\"word\":'tall', \"antonym\":'short'},\n",
    "    {\"word\":'big', \"antonym\":'small'}\n",
    "]"
   ]
  },
  {
   "cell_type": "code",
   "execution_count": 34,
   "id": "e3560a74-857a-4696-bc75-3e0cbf93840c",
   "metadata": {},
   "outputs": [],
   "source": [
    "example_formatter_template = \"\"\"word: {word}\n",
    "antonym: {antonym} \"\"\""
   ]
  },
  {
   "cell_type": "code",
   "execution_count": 36,
   "id": "6dd6542f-05a9-4f15-bdf1-5bcd4f120456",
   "metadata": {},
   "outputs": [],
   "source": [
    "example_prompt = PromptTemplate(\n",
    "    input_variables = ['word', 'antonym'],\n",
    "    template = example_formatter_template\n",
    ")"
   ]
  },
  {
   "cell_type": "code",
   "execution_count": 38,
   "id": "8cb1510a-f3ae-4a19-86ed-228e652c15d4",
   "metadata": {},
   "outputs": [],
   "source": [
    "few_shot = FewShotPromptTemplate(\n",
    "    examples = examples,\n",
    "    example_prompt = example_prompt,\n",
    "    prefix = 'Give me the antonym of given word',\n",
    "    suffix = \"Word: {input} Antonym:\",\n",
    "    input_variables=['input']\n",
    ")"
   ]
  },
  {
   "cell_type": "code",
   "execution_count": 40,
   "id": "a4ae1e18-b091-48e7-8ae4-8ef5bc2a67ea",
   "metadata": {},
   "outputs": [
    {
     "name": "stdout",
     "output_type": "stream",
     "text": [
      "Give me the antonym of given word\n",
      "\n",
      "word: tall\n",
      "antonym: short \n",
      "\n",
      "word: big\n",
      "antonym: small \n",
      "\n",
      "Word: happy Antonym:\n"
     ]
    }
   ],
   "source": [
    "print(few_shot.format(input = 'happy'))"
   ]
  },
  {
   "cell_type": "code",
   "execution_count": 41,
   "id": "3e8f2775-3be5-4926-8f1c-d47aeb20e4c3",
   "metadata": {},
   "outputs": [],
   "source": [
    "chain = LLMChain(llm = llm, prompt = few_shot)"
   ]
  },
  {
   "cell_type": "code",
   "execution_count": 42,
   "id": "8ec1964b-61d0-4ff1-b3b0-32a0839674fe",
   "metadata": {},
   "outputs": [
    {
     "data": {
      "text/plain": [
       "{'input': 'happy', 'text': 'sad'}"
      ]
     },
     "execution_count": 42,
     "metadata": {},
     "output_type": "execute_result"
    }
   ],
   "source": [
    "chain({'input':'happy'})"
   ]
  }
 ],
 "metadata": {
  "kernelspec": {
   "display_name": "Python 3 (ipykernel)",
   "language": "python",
   "name": "python3"
  },
  "language_info": {
   "codemirror_mode": {
    "name": "ipython",
    "version": 3
   },
   "file_extension": ".py",
   "mimetype": "text/x-python",
   "name": "python",
   "nbconvert_exporter": "python",
   "pygments_lexer": "ipython3",
   "version": "3.11.9"
  }
 },
 "nbformat": 4,
 "nbformat_minor": 5
}
