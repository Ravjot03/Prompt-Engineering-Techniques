{
 "cells": [
  {
   "cell_type": "code",
   "execution_count": 1,
   "id": "1fba8ea1-1da8-423f-8aa7-ac1251e9f397",
   "metadata": {},
   "outputs": [
    {
     "name": "stderr",
     "output_type": "stream",
     "text": [
      "/Users/ravjotsingh/anaconda3/envs/langchain_test/lib/python3.11/site-packages/tqdm/auto.py:21: TqdmWarning: IProgress not found. Please update jupyter and ipywidgets. See https://ipywidgets.readthedocs.io/en/stable/user_install.html\n",
      "  from .autonotebook import tqdm as notebook_tqdm\n"
     ]
    }
   ],
   "source": [
    "from langchain_google_genai import GoogleGenerativeAI"
   ]
  },
  {
   "cell_type": "code",
   "execution_count": 2,
   "id": "ea2678d7-f27e-4ad5-a931-4f48281bc01f",
   "metadata": {},
   "outputs": [],
   "source": [
    "api_key = \"your google api key\""
   ]
  },
  {
   "cell_type": "code",
   "execution_count": 3,
   "id": "20062aae-4d6c-4f6b-86fd-d257bfb80ae0",
   "metadata": {},
   "outputs": [],
   "source": [
    "llm = GoogleGenerativeAI(model=\"models/text-bison-001\", google_api_key=api_key)"
   ]
  },
  {
   "cell_type": "markdown",
   "id": "f237ac0a-f360-4ad9-817c-6db70d8330cc",
   "metadata": {},
   "source": [
    "## Prompt Template"
   ]
  },
  {
   "cell_type": "code",
   "execution_count": 4,
   "id": "75d73577-1538-4475-980c-9e784f395e44",
   "metadata": {},
   "outputs": [],
   "source": [
    "from langchain_core.prompts import PromptTemplate"
   ]
  },
  {
   "cell_type": "code",
   "execution_count": 6,
   "id": "28fafa02-44b7-489a-85b7-4b7446141f8b",
   "metadata": {},
   "outputs": [],
   "source": [
    "prompt_template = PromptTemplate.from_template(\"Tell me some information about {topic}.\")"
   ]
  },
  {
   "cell_type": "code",
   "execution_count": 7,
   "id": "306733e1-75e5-4cce-97e9-b8627c556173",
   "metadata": {},
   "outputs": [],
   "source": [
    "prompt = prompt_template.invoke({\"topic\" : \"San Jose\"})"
   ]
  },
  {
   "cell_type": "code",
   "execution_count": 8,
   "id": "b869e588-6034-493b-9ea9-1225556a7ecc",
   "metadata": {},
   "outputs": [
    {
     "name": "stderr",
     "output_type": "stream",
     "text": [
      "WARNING: All log messages before absl::InitializeLog() is called are written to STDERR\n",
      "I0000 00:00:1722031234.707477 16852253 config.cc:230] gRPC experiments enabled: call_status_override_on_cancellation, event_engine_dns, event_engine_listener, http2_stats_fix, monitoring_experiment, pick_first_new, trace_record_callops, work_serializer_clears_time_cache\n",
      "I0000 00:00:1722031234.735366 16852253 check_gcp_environment_no_op.cc:29] ALTS: Platforms other than Linux and Windows are not supported\n"
     ]
    },
    {
     "data": {
      "text/plain": [
       "'San Jose is the third-most populous city in California and the tenth-most populous city in the United States. The city is located in the southern part of the San Francisco Bay Area and is the county seat of Santa Clara County. San Jose is known for its high-tech industry, and is home to many major corporations, including Apple, Google, and Intel. The city is also home to a number of cultural attractions, including the San Jose Museum of Art, the Tech Museum of Innovation, and the San Jose Symphony.\\n\\nHere are some additional facts about San Jose:\\n\\n* The city was founded in 1777 by Spanish missionaries.\\n* San Jose was the first capital of California.\\n* The city is home to the largest population of Vietnamese people outside of Vietnam.\\n* San Jose is the birthplace of the computer mouse.\\n* The city is home to the SAP Center, home of the San Jose Sharks NHL team.\\n\\nSan Jose is a vibrant and diverse city with a rich history and culture. It is a great place to live, work, and play.'"
      ]
     },
     "execution_count": 8,
     "metadata": {},
     "output_type": "execute_result"
    }
   ],
   "source": [
    "llm.invoke(prompt)"
   ]
  },
  {
   "cell_type": "code",
   "execution_count": 9,
   "id": "b19cde69-688f-4c9b-ad87-88e1150b4bdc",
   "metadata": {},
   "outputs": [],
   "source": [
    "prompt_template_1 = PromptTemplate.from_template(\"Tell me some information about {topic}. Summarize it in 50 words.\")"
   ]
  },
  {
   "cell_type": "code",
   "execution_count": 11,
   "id": "1cbe10a7-f13b-4598-ac8f-4ea045947dfc",
   "metadata": {},
   "outputs": [],
   "source": [
    "prompt1 = prompt_template_1.invoke({\"topic\" : \"San Jose\"})"
   ]
  },
  {
   "cell_type": "code",
   "execution_count": 12,
   "id": "cfe60151-ef6f-481e-af54-75fd2e4e8997",
   "metadata": {},
   "outputs": [
    {
     "data": {
      "text/plain": [
       "'San Jose is the capital of Silicon Valley and the 10th most populous city in the United States. It is located in the southern end of the San Francisco Bay Area. San Jose is known for its high tech industry, its diverse population, and its mild climate.'"
      ]
     },
     "execution_count": 12,
     "metadata": {},
     "output_type": "execute_result"
    }
   ],
   "source": [
    "llm.invoke(prompt1)"
   ]
  },
  {
   "cell_type": "markdown",
   "id": "76d37441-e181-4c24-b119-17bd3b670d77",
   "metadata": {},
   "source": [
    "## Few Shot Prompt Template"
   ]
  },
  {
   "cell_type": "markdown",
   "id": "60007626-394b-4f19-8a3e-3607a5303efe",
   "metadata": {},
   "source": [
    "Few shot prompt template will help our llm to finetune our output based on the examples we provided."
   ]
  },
  {
   "cell_type": "code",
   "execution_count": 13,
   "id": "432ae6ae-8df6-469f-9360-cef48c660da7",
   "metadata": {},
   "outputs": [],
   "source": [
    "from langchain_core.prompts import FewShotPromptTemplate"
   ]
  },
  {
   "cell_type": "code",
   "execution_count": 23,
   "id": "6793f9c0-efca-4984-b243-845c6fd129a3",
   "metadata": {},
   "outputs": [],
   "source": [
    "example_prompt = PromptTemplate.from_template(\"Question : {question}:  {answer}\")"
   ]
  },
  {
   "cell_type": "code",
   "execution_count": 15,
   "id": "ac2fbf21-fec3-4702-94e2-7e7e445fa279",
   "metadata": {},
   "outputs": [],
   "source": [
    "examples = [\n",
    "    {\n",
    "        \"question\": \"add 2 and 2\",\n",
    "        \"answer\": \"after adding we get 4\"\n",
    "        \n",
    "    },\n",
    "    {\n",
    "        \"question\": \"subtract 2 from 2\",\n",
    "        \"answer\": \"after subtracting we get 0\"\n",
    "    },\n",
    "    {\n",
    "        \"question\": \"multiply 3 with 3\",\n",
    "        \"answer\": \"after multiplying we get 9\"\n",
    "    }\n",
    "]"
   ]
  },
  {
   "cell_type": "code",
   "execution_count": 27,
   "id": "7356601c-60d2-41eb-8074-85821eb5e110",
   "metadata": {},
   "outputs": [],
   "source": [
    "prompt = FewShotPromptTemplate(\n",
    "    examples = examples,\n",
    "    example_prompt= example_prompt,\n",
    "    suffix=\"Question: {input}\",\n",
    "    input_variables=[\"input\"]\n",
    ")"
   ]
  },
  {
   "cell_type": "code",
   "execution_count": 17,
   "id": "a4b36613-d8bd-453e-a364-6878f35a0e90",
   "metadata": {},
   "outputs": [
    {
     "data": {
      "text/plain": [
       "FewShotPromptTemplate(input_variables=['input'], examples=[{'question': 'add 2 and 2', 'answer': 'after adding we get 4'}, {'question': 'subtract 2 from 2', 'answer': 'after subtracting we get 0'}, {'question': 'multiply 3 with 3', 'answer': 'after multiplying we get 9'}], example_prompt=PromptTemplate(input_variables=['answer', 'question'], template='Question : {question} : {answer}'), suffix='Question: {input}')"
      ]
     },
     "execution_count": 17,
     "metadata": {},
     "output_type": "execute_result"
    }
   ],
   "source": [
    "prompt"
   ]
  },
  {
   "cell_type": "code",
   "execution_count": 31,
   "id": "fe455b5a-fda9-46d9-8a00-915ae9f51cb2",
   "metadata": {},
   "outputs": [],
   "source": [
    "new = prompt.invoke({\"input\": \"add ten and ten\"}).to_string()"
   ]
  },
  {
   "cell_type": "code",
   "execution_count": 33,
   "id": "40d1ca28-f640-4ef7-836a-86cb5b40f79a",
   "metadata": {},
   "outputs": [
    {
     "data": {
      "text/plain": [
       "'after adding we get 20'"
      ]
     },
     "execution_count": 33,
     "metadata": {},
     "output_type": "execute_result"
    }
   ],
   "source": [
    "llm.invoke(new)"
   ]
  },
  {
   "cell_type": "markdown",
   "id": "5d8bdf9d-0b7f-40fd-b6f2-2494b8016f13",
   "metadata": {},
   "source": [
    "## ChatPromptTemplate"
   ]
  },
  {
   "cell_type": "code",
   "execution_count": 34,
   "id": "b06f86ac-9e31-45f9-b6df-baeffdeaaaa0",
   "metadata": {},
   "outputs": [],
   "source": [
    "from langchain_core.prompts import ChatPromptTemplate"
   ]
  },
  {
   "cell_type": "code",
   "execution_count": 36,
   "id": "8e55509e-971e-4ce0-beae-8fe8925aec67",
   "metadata": {},
   "outputs": [],
   "source": [
    "prompt_template_2 = ChatPromptTemplate.from_messages([\n",
    "    (\"system\", \"You are a doctor\"),\n",
    "    (\"user\", \"Give me a diet plan to {topic}\")\n",
    "])"
   ]
  },
  {
   "cell_type": "code",
   "execution_count": 42,
   "id": "88b5f14b-2a6f-4e1b-98ef-7547091a3011",
   "metadata": {},
   "outputs": [],
   "source": [
    "chatprompt = prompt_template_2.invoke({\"topic\": \"increase weight\"})"
   ]
  },
  {
   "cell_type": "code",
   "execution_count": 43,
   "id": "91032a72-4140-4048-8e05-1d89b8110c3e",
   "metadata": {},
   "outputs": [
    {
     "data": {
      "text/plain": [
       "ChatPromptValue(messages=[SystemMessage(content='You are a doctor'), HumanMessage(content='Give me a diet plan to increase weight')])"
      ]
     },
     "execution_count": 43,
     "metadata": {},
     "output_type": "execute_result"
    }
   ],
   "source": [
    "chatprompt"
   ]
  },
  {
   "cell_type": "code",
   "execution_count": 45,
   "id": "7e491260-1c45-4764-af90-4fd58ef4f305",
   "metadata": {},
   "outputs": [
    {
     "name": "stdout",
     "output_type": "stream",
     "text": [
      "**Diet Plan to Increase Weight**\n",
      "\n",
      "The following diet plan is designed to help you gain weight in a healthy way. It includes a variety of foods that are high in calories and nutrients, and it provides you with the energy you need to maintain your weight.\n",
      "\n",
      "**Breakfast:**\n",
      "\n",
      "* 1 cup of whole-wheat oatmeal with 1/2 cup of milk and 1/4 cup of raisins\n",
      "* 1 slice of whole-wheat toast with 2 tablespoons of peanut butter\n",
      "* 1 cup of fruit juice\n",
      "\n",
      "**Lunch:**\n",
      "\n",
      "* Salad with 2 cups of mixed greens, 1/2 cup of grilled chicken breast, 1/4 cup of almonds, and 2 tablespoons of olive oil dressing\n",
      "* 1 cup of yogurt with 1/2 cup of berries\n",
      "\n",
      "**Dinner:**\n",
      "\n",
      "* 6 ounces of lean protein, such as grilled salmon, chicken breast, or tofu\n",
      "* 1 cup of brown rice\n",
      "* 1/2 cup of vegetables\n",
      "* 1/4 cup of fruit\n",
      "\n",
      "**Snacks:**\n",
      "\n",
      "* 1 handful of nuts\n",
      "* 1 piece of fruit\n",
      "* 1 cup of yogurt\n",
      "\n",
      "**Tips for Increasing Weight:**\n",
      "\n",
      "* Eat small meals throughout the day rather than 3 large meals.\n",
      "* Drink plenty of fluids, especially milk and fruit juice.\n",
      "* Add healthy fats to your diet, such as olive oil, avocado, and nuts.\n",
      "* Exercise regularly to build muscle mass.\n",
      "* Get enough sleep.\n",
      "\n",
      "By following this diet plan, you can safely and effectively gain weight in a healthy way.\n",
      "\n",
      "**Important Note:**\n",
      "\n",
      "This diet plan is not intended for people who are trying to lose weight. If you are overweight or obese, talk to your doctor before starting any weight gain program.\n"
     ]
    }
   ],
   "source": [
    "print(llm.invoke(chatprompt))"
   ]
  },
  {
   "cell_type": "markdown",
   "id": "b4b1a610-6bc0-443f-a765-7e4ce2c4d32e",
   "metadata": {},
   "source": [
    "## Acting as an information extractor"
   ]
  },
  {
   "cell_type": "code",
   "execution_count": 46,
   "id": "96aab71e-7b36-4fd0-ab86-fc763fc5a734",
   "metadata": {},
   "outputs": [
    {
     "name": "stderr",
     "output_type": "stream",
     "text": [
      "Retrying langchain_google_genai.llms._completion_with_retry.<locals>._completion_with_retry in 4.0 seconds as it raised InternalServerError: 500 An internal error has occurred. Please retry or report in https://developers.generativeai.google/guide/troubleshooting.\n"
     ]
    },
    {
     "name": "stdout",
     "output_type": "stream",
     "text": [
      "Diljit Dosanjh (born 6 January 1984) is a Punjabi singer, actor, and television presenter. He is known for his work in Punjabi cinema and has won numerous awards, including two Filmfare Awards, a National Film Award, and three PTC Punjabi Film Awards. He is also a popular playback singer in Bollywood and has sung songs for films such as Udta Punjab (2016), Phillauri (2017), and Arjun Patiala (2019).\n",
      "\n",
      "Dosanjh was born in Doraha, Ludhiana, Punjab, India. He started his career as a singer in 2003, releasing his debut album Ishq Da Uda Ada. He gained popularity with his second album, The Next Level, which was released in 2006. Dosanjh has since released a total of nine studio albums, all of which have been commercially successful.\n",
      "\n",
      "In addition to his singing career, Dosanjh has also appeared in a number of Punjabi films. His debut film was Jatt & Juliet (2012), which was a commercial success. He has since starred in a number of other successful films, including Jatt & Juliet 2 (2013), Sardaar Ji (2015), and Super Singh (2017).\n",
      "\n",
      "Dosanjh has also hosted a number of television shows, including the Punjabi reality show Rising Star Punjab (2015) and the Hindi reality show India's Got Talent (2017).\n",
      "\n",
      "Dosanjh is a popular figure in Punjabi culture and is known for his outspoken personality. He has been involved in a number of controversies, including a public spat with fellow Punjabi singer Mika Singh in 2017.\n",
      "\n",
      "Despite his controversies, Dosanjh remains one of the most popular singers and actors in Punjabi cinema. He continues to release new music and films, and he is also a successful businessman.\n"
     ]
    }
   ],
   "source": [
    "prompt_template_2 = ChatPromptTemplate.from_messages([\n",
    "    (\"system\", \"You are a helpful assistant\"),\n",
    "    (\"user\", \"Give me a info about {topic}\")\n",
    "])\n",
    "\n",
    "chatprompt = prompt_template_2.invoke({\"topic\": \"diljit dosanjh\"})\n",
    "\n",
    "print(llm.invoke(chatprompt))"
   ]
  },
  {
   "cell_type": "code",
   "execution_count": 47,
   "id": "5cdd606f-b1bf-45cc-b6a2-427cdac5e872",
   "metadata": {},
   "outputs": [],
   "source": [
    "text = \"\"\"Diljit Dosanjh (born 6 January 1984) is a Punjabi singer, actor, and television presenter. He is known for his work in Punjabi cinema and has won numerous awards, including two Filmfare Awards, a National Film Award, and three PTC Punjabi Film Awards. He is also a popular playback singer in Bollywood and has sung songs for films such as Udta Punjab (2016), Phillauri (2017), and Arjun Patiala (2019).\n",
    "\n",
    "Dosanjh was born in Doraha, Ludhiana, Punjab, India. He started his career as a singer in 2003, releasing his debut album Ishq Da Uda Ada. He gained popularity with his second album, The Next Level, which was released in 2006. Dosanjh has since released a total of nine studio albums, all of which have been commercially successful.\n",
    "\n",
    "In addition to his singing career, Dosanjh has also appeared in a number of Punjabi films. His debut film was Jatt & Juliet (2012), which was a commercial success. He has since starred in a number of other successful films, including Jatt & Juliet 2 (2013), Sardaar Ji (2015), and Super Singh (2017).\n",
    "\n",
    "Dosanjh has also hosted a number of television shows, including the Punjabi reality show Rising Star Punjab (2015) and the Hindi reality show India's Got Talent (2017).\n",
    "\n",
    "Dosanjh is a popular figure in Punjabi culture and is known for his outspoken personality. He has been involved in a number of controversies, including a public spat with fellow Punjabi singer Mika Singh in 2017.\n",
    "\n",
    "Despite his controversies, Dosanjh remains one of the most popular singers and actors in Punjabi cinema. He continues to release new music and films, and he is also a successful businessman.\"\"\""
   ]
  },
  {
   "cell_type": "code",
   "execution_count": 48,
   "id": "d278055f-5bf8-49f6-9a9b-0da368b73c39",
   "metadata": {},
   "outputs": [
    {
     "name": "stderr",
     "output_type": "stream",
     "text": [
      "Retrying langchain_google_genai.llms._completion_with_retry.<locals>._completion_with_retry in 4.0 seconds as it raised InternalServerError: 500 An internal error has occurred. Please retry or report in https://developers.generativeai.google/guide/troubleshooting.\n",
      "Retrying langchain_google_genai.llms._completion_with_retry.<locals>._completion_with_retry in 4.0 seconds as it raised InternalServerError: 500 An internal error has occurred. Please retry or report in https://developers.generativeai.google/guide/troubleshooting.\n"
     ]
    },
    {
     "name": "stdout",
     "output_type": "stream",
     "text": [
      "Name: Diljit Dosanjh\n",
      "Date of birth: 6 January 1984\n",
      "Films:\n",
      "- Jatt & Juliet (2012)\n",
      "- Jatt & Juliet 2 (2013)\n",
      "- Sardaar Ji (2015)\n",
      "- Super Singh (2017)\n",
      "- Arjun Patiala (2019)\n"
     ]
    }
   ],
   "source": [
    "prompt_template_2 = ChatPromptTemplate.from_messages([\n",
    "    (\"system\", \"Act as an information extractor\"),\n",
    "    (\"user\", \"Extract name, date of birth, films in which he have worked {topic}\")\n",
    "])\n",
    "\n",
    "chatprompt = prompt_template_2.invoke({\"topic\": text})\n",
    "\n",
    "print(llm.invoke(chatprompt))"
   ]
  }
 ],
 "metadata": {
  "kernelspec": {
   "display_name": "Python 3 (ipykernel)",
   "language": "python",
   "name": "python3"
  },
  "language_info": {
   "codemirror_mode": {
    "name": "ipython",
    "version": 3
   },
   "file_extension": ".py",
   "mimetype": "text/x-python",
   "name": "python",
   "nbconvert_exporter": "python",
   "pygments_lexer": "ipython3",
   "version": "3.11.5"
  }
 },
 "nbformat": 4,
 "nbformat_minor": 5
}
